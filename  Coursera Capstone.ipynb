{
    "cells": [
        {
            "cell_type": "markdown",
            "metadata": {
                "collapsed": true
            },
            "source": "<h1 style=\"text-align: center\">Notebook for Coursera Capstone Project</h1>\n<h1 style=\"text-align: center\">The Battle of Neighborhoods (Week 1)</h1>"
        },
        {
            "cell_type": "markdown",
            "metadata": {},
            "source": "## Title:"
        },
        {
            "cell_type": "markdown",
            "metadata": {},
            "source": "### Project that will be focus on searching for the best neighborhood in Osaka, Japan for placing an artisanal ice cream shop.\n"
        },
        {
            "cell_type": "markdown",
            "metadata": {},
            "source": "Student: Fernanda Tiemi (Brazil)   \nGitHub: https://github.com/nandayot/Coursera_Capstone"
        },
        {
            "cell_type": "markdown",
            "metadata": {},
            "source": "### Introduction "
        },
        {
            "cell_type": "markdown",
            "metadata": {},
            "source": "The problem with this project is to determine the best neighborhood in Osaka, Japan for a small business owner who wants to open an ice cream shop.\n\nOsaka is one of the most famous cities in terms of food services. Known as the Food Capital in Japan. It has a GDP growth of 0.7% and a population of 2.6 million people, the third with the largest population.\n\nAs well as the Capital Tokyo. Osaka has been developing numerous actions and tools to attract both consumers and international entrepreneurs with Investment and Promotion Centers. The Services sector represents almost half of its GDP, with a 40% share.\n\nRegarding the population age group, Osaka has 60% of the population in the 15-64 year old group. An essential advantage for food companies with a focus on young and adult consumers.\n\nBased on this favorable environment for the development of micro entrepreneurs. The objective of this project is to identify the best neighborhood in Osaka for the establishment of an artisanal ice cream shop.\n\nsource: http://www.stat.go.jp/english/data/nenkan/69nenkan/zenbun/en69/top.html"
        },
        {
            "cell_type": "markdown",
            "metadata": {},
            "source": "### Data Section"
        },
        {
            "cell_type": "markdown",
            "metadata": {},
            "source": "This project will analyze all the existing neighborhoods in Osaka and, based on that, send requests to the Foursquare API to get relevant data about the types of venues existing in each one. For example, venues categories, venues rating average, etc."
        },
        {
            "cell_type": "markdown",
            "metadata": {},
            "source": "One of the essential values that this project will use is the category of stores in each neighborhood. The logic used will be to value neighborhoods with fewer stores related to cafeterias and pastry shops and sweet foods and to prioritize neighborhoods with stores and restaurants with spicy and savory foods. This is because, the desire for a dessert will be much greater in these places than in places with several stores with the same type of flavor, in this case, the sweet. In addition to looking at other relevant data such as the population quantity per neighborhood and also prioritizing neighborhoods with a larger population quantity."
        },
        {
            "cell_type": "markdown",
            "metadata": {},
            "source": "The data will be collected using three APIs. The first API is the wikipedia API where we will get Osaka neighborhoods. Then to specify the location of neighborhoods with Latitude and Longitude, we will use the Microsoft API Bing. And with these two variables, we will use them for requests in the Foursquare API and thus do the proper data analysis."
        },
        {
            "cell_type": "code",
            "execution_count": null,
            "metadata": {},
            "outputs": [],
            "source": ""
        }
    ],
    "metadata": {
        "kernelspec": {
            "display_name": "Python 3.6",
            "language": "python",
            "name": "python3"
        },
        "language_info": {
            "codemirror_mode": {
                "name": "ipython",
                "version": 3
            },
            "file_extension": ".py",
            "mimetype": "text/x-python",
            "name": "python",
            "nbconvert_exporter": "python",
            "pygments_lexer": "ipython3",
            "version": "3.6.9"
        }
    },
    "nbformat": 4,
    "nbformat_minor": 1
}