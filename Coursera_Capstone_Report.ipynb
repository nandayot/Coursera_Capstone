{
    "cells": [
        {
            "cell_type": "markdown",
            "metadata": {},
            "source": "<h1 style=\"text-align: center\">Notebook for Coursera Capstone Project</h1>\n<h1 style=\"text-align: center\">The Battle of Neighborhoods (Week 1/Week2)</h1>"
        },
        {
            "cell_type": "markdown",
            "metadata": {},
            "source": "## Title:"
        },
        {
            "cell_type": "markdown",
            "metadata": {},
            "source": "### Project that will be focus on searching for the best neighborhood in Osaka, Japan for placing an artisanal ice cream shop.\n"
        },
        {
            "cell_type": "markdown",
            "metadata": {},
            "source": "Student: Fernanda Tiemi (Brazil)   \nGitHub: https://github.com/nandayot/Coursera_Capstone"
        },
        {
            "cell_type": "markdown",
            "metadata": {},
            "source": "## Introduction "
        },
        {
            "cell_type": "markdown",
            "metadata": {},
            "source": "The problem with this project is to determine the best neighborhood in Osaka, Japan for a small business owner who wants to open an ice cream shop.\n\nOsaka is one of the most famous cities in terms of food services. Known as the Food Capital in Japan. It has a GDP growth of 0.7% and a population of 2.6 million people, the third with the largest population.\n\nAs well as the Capital Tokyo. Osaka has been developing numerous actions and tools to attract both consumers and international entrepreneurs with Investment and Promotion Centers. The Services sector represents almost half of its GDP, with a 40% share.\n\nRegarding the population age group, Osaka has 60% of the population in the 15-64 year old group. An essential advantage for food companies with a focus on young and adult consumers.\n\nHowever, in spite of the good indexes and positive statistics of enterprise in the place, the city is full of diverse attractions and establishments. Making it difficult to open a microenterprise in such an attractive location. Without proper analysis of the environment, the entrepreneur may be harmed.\n\nBased on this favorable environment for the development of micro entrepreneurs. The objective of this project is to identify the best neighborhood in Osaka for the establishment of an artisanal ice cream shop.\n\nsource: http://www.stat.go.jp/english/data/nenkan/69nenkan/zenbun/en69/top.html"
        },
        {
            "cell_type": "markdown",
            "metadata": {},
            "source": "## Data Section"
        },
        {
            "cell_type": "markdown",
            "metadata": {},
            "source": "This project will analyze all the existing neighborhoods in Osaka and, based on that, send requests to the Foursquare API to get relevant data about the types of venues existing in each one. For example, venues categories, venues rating average, etc."
        },
        {
            "cell_type": "markdown",
            "metadata": {},
            "source": "One of the essential values that this project will use is the category of stores in each neighborhood. The logic used will be to value neighborhoods with fewer stores related to Coffee, Bakery and Ice Cream Shops and to prioritize neighborhoods with stores and restaurants with spicy and savory foods shops. This is because, the desire for a dessert will be much greater in these places than in places with several stores with the same type of flavor, in this case, the sweet. In addition to looking at other relevant data such as the population quantity per neighborhood and also prioritizing neighborhoods with a larger population quantity."
        },
        {
            "cell_type": "markdown",
            "metadata": {},
            "source": "This project decided to utilize the density population statistics to look for neighborhood most populated. Based on studies made by United States Census Bureau, the density population stats is more effective for calculating small populated places. Thus, is will be very well applied in this project where we will be using neighborhoods in Osaka city."
        },
        {
            "cell_type": "markdown",
            "metadata": {},
            "source": "The data will be collected using three APIs. The first API is the wikipedia API where we will get Osaka neighborhoods. Then to specify the location of neighborhoods with Latitude and Longitude, we will use the Microsoft API Bing and Nominatim. And with these two variables, we will use them for requests in the Foursquare API and thus do the proper data analysis."
        },
        {
            "cell_type": "markdown",
            "metadata": {},
            "source": "## Methodology"
        },
        {
            "cell_type": "markdown",
            "metadata": {},
            "source": "This study did not use any concept of machine learning because it is not necessary in this context. The methodology used was to locate locations with low number of stores related to ice cream, using the category attribute in the API Foursquare.\n\nWith these data, a refinement was made in all neighborhoods to discover the ten most common store categories in these neighborhoods. With these results, choose the best neighborhoods in Osaka with the aforementioned logic."
        },
        {
            "cell_type": "markdown",
            "metadata": {},
            "source": "## Results"
        },
        {
            "cell_type": "markdown",
            "metadata": {},
            "source": "### 1. Osaka neighborhoods collecion "
        },
        {
            "cell_type": "markdown",
            "metadata": {},
            "source": "The first step was to collect all neighborhoods in Osaka with the wikipedia API available for python. We obtain the total of 24 neighborhoods. Being them:"
        },
        {
            "cell_type": "markdown",
            "metadata": {},
            "source": "<img src=\"assets/totall.png\"/>"
        },
        {
            "cell_type": "markdown",
            "metadata": {},
            "source": "#### 1.1 Conflicting neighborhood renaming"
        },
        {
            "cell_type": "markdown",
            "metadata": {},
            "source": "A problem was detected at the time of the Bing Maps API call regarding the neighborhood of index 10. So it was abbreviated."
        },
        {
            "cell_type": "markdown",
            "metadata": {},
            "source": "<img src=\"assets/kita.png\"/>"
        },
        {
            "cell_type": "markdown",
            "metadata": {},
            "source": "to"
        },
        {
            "cell_type": "markdown",
            "metadata": {},
            "source": "<img src=\"assets/kitanew.png\"/>"
        },
        {
            "cell_type": "markdown",
            "metadata": {},
            "source": "#### 1.2 Request Latitude and Longitude on Bing Maps API "
        },
        {
            "cell_type": "markdown",
            "metadata": {},
            "source": "The call to the Bing Maps API was made within a function that sent calls to all neighborhoods. The coordinates were stored in two vectors."
        },
        {
            "cell_type": "markdown",
            "metadata": {},
            "source": "<img src=\"assets/neightotal.png\"/>"
        },
        {
            "cell_type": "markdown",
            "metadata": {},
            "source": "#### 1.3 Updated Dataframe with Latitude and Longitude values"
        },
        {
            "cell_type": "markdown",
            "metadata": {},
            "source": "We updated the dataframe and placed the respective coordinates in the neighborhoods"
        },
        {
            "cell_type": "markdown",
            "metadata": {},
            "source": "<img src=\"assets/df_osaka.png\"/>"
        },
        {
            "cell_type": "markdown",
            "metadata": {},
            "source": "#### 1.4 Sorting dataframe based on density population indicator"
        },
        {
            "cell_type": "markdown",
            "metadata": {},
            "source": "In this project, we used neighborhoods with the highest population density as a key parameter to discover busy neighborhoods."
        },
        {
            "cell_type": "markdown",
            "metadata": {},
            "source": "<img src=\"assets/dfpop.png\"/>"
        },
        {
            "cell_type": "markdown",
            "metadata": {},
            "source": "### 2. Using Foursquare API"
        },
        {
            "cell_type": "markdown",
            "metadata": {},
            "source": "We started by taking the most populated neighborhood and making a request to the Foursquare API to pick up the nearest venues within 500 meters.\nThen we make a dataframe of the response."
        },
        {
            "cell_type": "markdown",
            "metadata": {},
            "source": "<img src=\"assets/jotovenues.png\"/>"
        },
        {
            "cell_type": "markdown",
            "metadata": {},
            "source": "With this example, we replicate for all neighborhoods with a limit of 100 venus per neighborhood. The result was 582 venues."
        },
        {
            "cell_type": "markdown",
            "metadata": {},
            "source": "<img src=\"assets/venuestotal.png\"/>"
        },
        {
            "cell_type": "markdown",
            "metadata": {},
            "source": "We turn all venues into columns on the dataframe and analyze them with the highest frequency of appearance in each neighborhood."
        },
        {
            "cell_type": "markdown",
            "metadata": {},
            "source": "<img src=\"assets/venuestotalneigh.png\"/>"
        },
        {
            "cell_type": "markdown",
            "metadata": {},
            "source": "#### 2.1 10 most common venus"
        },
        {
            "cell_type": "markdown",
            "metadata": {},
            "source": "Then we selected the 10 most common venues in each neighborhoods and make a dataframe."
        },
        {
            "cell_type": "markdown",
            "metadata": {},
            "source": "<img src=\"assets/mostcommonvenus.png\"/>"
        },
        {
            "cell_type": "markdown",
            "metadata": {},
            "source": "### 3. The Best Neighborhood"
        },
        {
            "cell_type": "markdown",
            "metadata": {},
            "source": "Finally, we join the dataframe of the venues and combine it with the preliminary dataframe and sorted the result based on population density. The chosen neighborhood is the first in the table."
        },
        {
            "cell_type": "markdown",
            "metadata": {},
            "source": "<img src=\"assets/naniwa.png\"/>"
        },
        {
            "cell_type": "markdown",
            "metadata": {},
            "source": "The best neighborhood to place the artisanal ice cream shop in Osaka City is Naniwa-ku."
        },
        {
            "cell_type": "markdown",
            "metadata": {},
            "source": "## Discussion"
        },
        {
            "cell_type": "markdown",
            "metadata": {},
            "source": "Based on this study and analysis, we can see several interesting points regarding the type of places that exist in Osaka, by neighborhoods. \n\nWe found that convenience stores are the most frequent locations in all neighborhoods. A unique feature that happens in Japan\n\nWe are also able to observe neighborhoods that have a higher frequency of sports aritgos where there are gyms. Also neighborhoods with supermarkets and parks have a higher frequency of coffee shops.\n\nWe also found that Restaurante de Lamen is frequent in almost every neighborhood in Osaka."
        },
        {
            "cell_type": "markdown",
            "metadata": {},
            "source": "## Conclusion"
        },
        {
            "cell_type": "markdown",
            "metadata": {},
            "source": "After analyzing data from venues in each neighborhood and taking into account the neighborhood with the highest population density that had the least ice cream-related stores, the best neighborhood to place an artisanal ice cream shop is the Naniwa-ku neighborhood"
        },
        {
            "cell_type": "markdown",
            "metadata": {},
            "source": "<h1 style=\"text-align: center\">Thank You!</h1>\n<p style=\"text-align: center\">for reading until here</p>"
        },
        {
            "cell_type": "markdown",
            "metadata": {},
            "source": "<p style=\"text-align: center\">Best regards.</p>"
        }
    ],
    "metadata": {
        "kernelspec": {
            "display_name": "Python 3.6",
            "language": "python",
            "name": "python3"
        },
        "language_info": {
            "codemirror_mode": {
                "name": "ipython",
                "version": 3
            },
            "file_extension": ".py",
            "mimetype": "text/x-python",
            "name": "python",
            "nbconvert_exporter": "python",
            "pygments_lexer": "ipython3",
            "version": "3.6.9"
        }
    },
    "nbformat": 4,
    "nbformat_minor": 4
}